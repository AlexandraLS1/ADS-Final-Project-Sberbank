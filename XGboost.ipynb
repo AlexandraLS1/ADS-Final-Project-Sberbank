{
 "cells": [
  {
   "cell_type": "markdown",
   "metadata": {},
   "source": [
    "**XGBOOST**"
   ]
  },
  {
   "cell_type": "code",
   "execution_count": 1,
   "metadata": {
    "collapsed": false
   },
   "outputs": [
    {
     "name": "stderr",
     "output_type": "stream",
     "text": [
      "C:\\ProgramData\\Anaconda3\\lib\\site-packages\\sklearn\\cross_validation.py:44: DeprecationWarning: This module was deprecated in version 0.18 in favor of the model_selection module into which all the refactored classes and functions are moved. Also note that the interface of the new CV iterators are different from that of this module. This module will be removed in 0.20.\n",
      "  \"This module will be removed in 0.20.\", DeprecationWarning)\n"
     ]
    }
   ],
   "source": [
    "import numpy as np # Advanced mathematical functions and linear algebra\n",
    "import pandas as pd # Data processing ,Data analytics and easy CSV input / output\n",
    "import seaborn as sns # make a niser plots-updates matplotlib plots\n",
    "import matplotlib.pyplot as plt #Basic plotting functionality like in MATLAB \n",
    "#import missingno as msno # mising value visualizations\n",
    "%matplotlib inline\n",
    "\n",
    "import xgboost as xgb"
   ]
  },
  {
   "cell_type": "code",
   "execution_count": 2,
   "metadata": {
    "collapsed": true
   },
   "outputs": [],
   "source": [
    "#macro=pd.read_csv('../ADS-Final-Project-Sberbank/macro.csv/macro.csv')\n",
    "train=pd.read_csv(\"../ADS-Final-Project-Sberbank/train.csv/train.csv\")\n",
    "#test=pd.read_csv(\"../ADS-Final-Project-Sberbank/test.csv/test.csv\")\n"
   ]
  },
  {
   "cell_type": "code",
   "execution_count": 3,
   "metadata": {
    "collapsed": true
   },
   "outputs": [],
   "source": [
    "#clean data\n",
    "bad_index = train[train.life_sq > train.full_sq].index\n",
    "train.ix[bad_index, \"life_sq\"] = np.NaN\n",
    "\n",
    "bad_index = train[train.life_sq<5].index\n",
    "train.ix[bad_index, \"life_sq\"] = np.NaN\n",
    "\n",
    "bad_index = train[train.full_sq<5].index\n",
    "train.ix[bad_index, \"full_sq\"] = np.NaN\n",
    "\n",
    "bad_index = train[train.kitch_sq<5].index\n",
    "train.ix[bad_index, \"kitch_sq\"] = np.NaN\n",
    "\n",
    "#\n",
    "bad_index = train[train.build_year < 1500].index\n",
    "train.ix[bad_index, \"build_year\"] = np.NaN\n",
    "\n",
    "bad_index = train[train.build_year > 2018].index\n",
    "train.ix[bad_index, \"build_year\"] = np.NaN\n",
    "\n",
    "#\n",
    "bad_index = train[train.state == 33].index\n",
    "train.ix[bad_index, \"state\"] = 3\n",
    "\n",
    "#\n",
    "bad_index = train[train.num_room <= 0].index\n",
    "train.ix[bad_index, \"num_room\"] = np.NaN\n",
    "\n",
    "bad_index = train[train.build_year < 1500].index\n",
    "train.ix[bad_index, \"build_year\"] = np.NaN\n",
    "#\n",
    "bad_index = train[train.floor > train.max_floor].index\n",
    "train.ix[bad_index, \"max_floor\"] = np.NaN\n"
   ]
  },
  {
   "cell_type": "code",
   "execution_count": 4,
   "metadata": {
    "collapsed": true
   },
   "outputs": [],
   "source": [
    "use_index = train[train.product_type == \"Investment\"].index\n",
    "train.ix[use_index , 'product_type'] = 0\n",
    "\n",
    "use_index = train[train.product_type == \"OwnerOccupier\"].index\n",
    "train.ix[use_index , 'product_type'] = 1\n",
    "\n",
    "train['product_type'] = train['product_type'].astype(np.float32)"
   ]
  },
  {
   "cell_type": "code",
   "execution_count": null,
   "metadata": {
    "collapsed": true
   },
   "outputs": [],
   "source": []
  }
 ],
 "metadata": {
  "kernelspec": {
   "display_name": "Python 3",
   "language": "python",
   "name": "python3"
  },
  "language_info": {
   "codemirror_mode": {
    "name": "ipython",
    "version": 3
   },
   "file_extension": ".py",
   "mimetype": "text/x-python",
   "name": "python",
   "nbconvert_exporter": "python",
   "pygments_lexer": "ipython3",
   "version": "3.6.0"
  }
 },
 "nbformat": 4,
 "nbformat_minor": 2
}
